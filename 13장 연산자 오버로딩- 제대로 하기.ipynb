{
 "cells": [
  {
   "cell_type": "markdown",
   "metadata": {},
   "source": [
    "# 13장. 연산자 오버로딩: 제대로 하기\n",
    "\n",
    "연산자 오버로딩은 사용자 정의 객체가 +와 | 같은 중위 연산자, -와 ~같은 단항 연산자를 사용할 수 있게 해준다. 이 장에서는 다음 내용을 설명한다. \n",
    "\n",
    "* 파이썬이 다른 자료형의 피연산자로 중위 연산자를 지원하는 방법\n",
    "* 다양한 자료형의 피연산자를 다루기 위한 "
   ]
  },
  {
   "cell_type": "markdown",
   "metadata": {},
   "source": [
    "## 13.1 연산자 오버로딩 기본 지식\n",
    "\n",
    "연산자 오버로딩은 잘 사용하면 가독성이 향상되지만 잘못 쓰면 별로다. 따라서 파이썬에서는 다음과 같은 제한을 두고 있다.\n",
    "\n",
    "* 내장 자료형에 대한 연산자는 오버로딩할 수 없다.\n",
    "* 새로운 연산자를 생성할 수 없으며, 기존 연산자를 오버로딩만 할 수 있다.\n",
    "* is, and, or, not 연산자는 오버로딩할 수 없다(그러나 $, |, ~ 비트 연산자는 가능)"
   ]
  },
  {
   "cell_type": "markdown",
   "metadata": {},
   "source": [
    "## 13.2 단항 연산자\n",
    "\n",
    "파이썬에서 제공하는 세 개의 단항 연산자 및 관련 특별 메서드는 다음과 같다.\n",
    "\n",
    "* `-(__neg__)` : 단항 산술 부정. x가 -2면 -x는 2다.\n",
    "\n",
    "* `+(__pos__)` : 단항 산술 덧셈. 일반적으로 x와 +x는 동일하다.\n",
    "\n",
    "* `~(__invert__)` : 정수형의 비트 반전. ~x는 -(x+1)로 정의된다. \n",
    "\n",
    "또한 `abs()(__abs__()`도 단항 연산자라고 할 수 있다.\n",
    "\n",
    "단항 연산자는 `self` 인수 하나를 받는 적절한 특별 메서드를 통해 쉽게 구현할 수 있다. 다만 __언제나 새로운 객체를 반환해야한다__는 핵심 규칙을 지켜야 한다. 앞으로 10장에서 구현한 `Vector` 클래스에 단항 연산자들을 구현해보고자 한다."
   ]
  },
  {
   "cell_type": "code",
   "execution_count": 2,
   "metadata": {},
   "outputs": [
    {
     "name": "stdout",
     "output_type": "stream",
     "text": [
      "# vector_v5.py\n",
      "\n",
      "from array import array\n",
      "import reprlib\n",
      "import math\n",
      "import numbers\n",
      "import functools\n",
      "import operator\n",
      "import itertools # chain() 함수를 사용하기 위함\n",
      "\n",
      "class Vector:\n",
      "    typecode = 'd'\n",
      "    shortcut_names = 'xyzt'\n",
      "    \n",
      "    def __init__(self, components):\n",
      "        # 벡터 요소를 배열로 저장\n",
      "        self._components = array(self.typecode, components)\n",
      "    \n",
      "    \"\"\"시퀀스 프로토콜 구현\"\"\"\n",
      "    def __len__(self):\n",
      "        return len(self._components)\n",
      "    \n",
      "    def __getitem__(self, index):\n",
      "        cls = type(self) # 객체의 클래스를 가져옴\n",
      "        if isinstance(index, slice): # index가 슬라이스이면\n",
      "            return cls(self._components[index]) # Vector 객체를 생성\n",
      "        elif isinstance(index, numbers.Integral): # index가 정수형이면\n",
      "            return self._components[index] # 해당 항목 반환\n",
      "        else:\n",
      "            msg = '{cls.__name__} indices must be integers'\n",
      "            raise TypeError(msg.format(cls=cls)) \n",
      "    \"\"\"시퀀스 프로토콜 구현 종료\"\"\"\n",
      "    \n",
      "    def __getattr__(self, name):\n",
      "        cls = type(self)\n",
      "        if len(name) == 1: # name이 한글자이면 \n",
      "            pos = cls.shortcut_names.find(name)\n",
      "            if 0 <= pos < len(self._components): # 포지션이 범위 내에 있으면 배열 항목 반환\n",
      "                return self._components[pos]\n",
      "        msg = '{.__name__!r} object has no attribute {!r}' \n",
      "        raise AttributeError(msg.format(cls, name))\n",
      "        \n",
      "    def __setattr__(self, name, value):\n",
      "        cls = type(self)\n",
      "        if len(name) == 1:\n",
      "            if name in cls.shortcut_names:\n",
      "                error = 'readonly attribute {attr_name!r}' # xyzt 중 하나는 구체적으로 오류 발생\n",
      "            elif name.islower():\n",
      "                error = \"can't set attributes 'a' to 'z' in {cls_name!r}\" # 그외 소문자면 일반적 메세지 오류 발생\n",
      "            else:\n",
      "                error = ''\n",
      "            if error:\n",
      "                msg = error.format(cls_name=cls.__name__, attr_name=name)\n",
      "                raise AttributeError(msg)\n",
      "        # 에러가 발생하지 않을 때는 정상적으로 __setattr__() 메서드 호출\n",
      "        super().__setattr__(name, value) \n",
      "        \n",
      "    def angle(self, n):\n",
      "        r = math.sqrt(sum(x * x for x in self[n:]))\n",
      "        a = math.atan2(r, self[n-1])\n",
      "        if (n == len(self) - 1) and (self[-1]<0):\n",
      "            return math.pi * 2 - a\n",
      "        else:\n",
      "            return a\n",
      "        \n",
      "    def angles(self):\n",
      "        return (self.angle(n) for n in range(1, len(self)))\n",
      "    \n",
      "    def __format__(self, fmt_spec=''):\n",
      "        if fmt_spec.endswith('h'): # 초구면좌표\n",
      "            fmt_spec = fmt_spec[:-1]\n",
      "            coords = itertools.chain([abs(self)],\n",
      "                                    self.angles()) \n",
      "            outer_fmt = '<{}>'\n",
      "        else:\n",
      "            coords = self\n",
      "            outer_fmt = '({})'\n",
      "        components = (format(c, fmt_spec) for c in coords)\n",
      "        return outer_fmt.format(', '.join(components))\n",
      "    \n",
      "    def __iter__(self):\n",
      "        return iter(self._components) # 반복할 수 있도록 구현\n",
      "    \n",
      "    def __repr__(self):\n",
      "        components = reprlib.repr(self._components) # 제한된 길이로 출력\n",
      "        components = components[components.find('['):-1] # 문자열 중 앞에 나오는 \"array('d',\" 를 제거\n",
      "        return 'Vector({})'.format(components)\n",
      "    \n",
      "    def __str__(self):\n",
      "        return str(tuple(self))\n",
      "    \n",
      "    def __bytes__(self):\n",
      "        return (bytes([ord(self.typecode)]) + \n",
      "               bytes(self._components))\n",
      "    \n",
      "    def __eq__(self, other):\n",
      "        if len(self) != len(other): # 길이가 다르면 False\n",
      "            return False\n",
      "        for a, b in zip(self, other): # 제너레이터로부터 하나씩 비교\n",
      "            if a != b:\n",
      "                return False\n",
      "        return True\n",
      "    \n",
      "    def __hash__(self):\n",
      "        hashes = (hash(x) for x in self._components) # 제너레이터 표현식 이용\n",
      "        return functools.reduce(operator.xor, hasehs, 0) # 초기값을 0으로 함\n",
      "    \n",
      "    def __abs__(self):\n",
      "        return math.sqrt(sum(x * x for x in self))\n",
      "    \n",
      "    def __bool__(self):\n",
      "        return bool(abs(self))\n",
      "    \n",
      "    @classmethod\n",
      "    def frombytes(cls, octets):\n",
      "        typecode = chr(octets[0])\n",
      "        memv = memoryview(octets[1:]).cast(typecode)\n",
      "        return cls(memv) # 언패킹할 필요가 없음"
     ]
    }
   ],
   "source": [
    "!cat vector_v5.py"
   ]
  },
  {
   "cell_type": "markdown",
   "metadata": {},
   "source": [
    "단항 연산자들을 다음과 같이 구현하자.\n",
    "\n",
    "```python\n",
    "def __abs__(self):\n",
    "    return math.sqrt(sum(x * x for x in self))\n",
    "\n",
    "# -x 구현\n",
    "def __neg__(self):\n",
    "    return Vector(-x for x in self)\n",
    "\n",
    "# +x 구현\n",
    "def __pos__(self):\n",
    "    return Vector(self)\n",
    "```"
   ]
  },
  {
   "cell_type": "code",
   "execution_count": 3,
   "metadata": {
    "jupyter": {
     "source_hidden": true
    }
   },
   "outputs": [],
   "source": [
    "# vector_v6.py\n",
    "\n",
    "from array import array\n",
    "import reprlib\n",
    "import math\n",
    "import numbers\n",
    "import functools\n",
    "import operator\n",
    "import itertools # chain() 함수를 사용하기 위함\n",
    "\n",
    "class Vector:\n",
    "    typecode = 'd'\n",
    "    shortcut_names = 'xyzt'\n",
    "    \n",
    "    def __init__(self, components):\n",
    "        # 벡터 요소를 배열로 저장\n",
    "        self._components = array(self.typecode, components)\n",
    "    \n",
    "    \"\"\"시퀀스 프로토콜 구현\"\"\"\n",
    "    def __len__(self):\n",
    "        return len(self._components)\n",
    "    \n",
    "    def __getitem__(self, index):\n",
    "        cls = type(self) # 객체의 클래스를 가져옴\n",
    "        if isinstance(index, slice): # index가 슬라이스이면\n",
    "            return cls(self._components[index]) # Vector 객체를 생성\n",
    "        elif isinstance(index, numbers.Integral): # index가 정수형이면\n",
    "            return self._components[index] # 해당 항목 반환\n",
    "        else:\n",
    "            msg = '{cls.__name__} indices must be integers'\n",
    "            raise TypeError(msg.format(cls=cls)) \n",
    "    \"\"\"시퀀스 프로토콜 구현 종료\"\"\"\n",
    "    \n",
    "    def __getattr__(self, name):\n",
    "        cls = type(self)\n",
    "        if len(name) == 1: # name이 한글자이면 \n",
    "            pos = cls.shortcut_names.find(name)\n",
    "            if 0 <= pos < len(self._components): # 포지션이 범위 내에 있으면 배열 항목 반환\n",
    "                return self._components[pos]\n",
    "        msg = '{.__name__!r} object has no attribute {!r}' \n",
    "        raise AttributeError(msg.format(cls, name))\n",
    "        \n",
    "    def __setattr__(self, name, value):\n",
    "        cls = type(self)\n",
    "        if len(name) == 1:\n",
    "            if name in cls.shortcut_names:\n",
    "                error = 'readonly attribute {attr_name!r}' # xyzt 중 하나는 구체적으로 오류 발생\n",
    "            elif name.islower():\n",
    "                error = \"can't set attributes 'a' to 'z' in {cls_name!r}\" # 그외 소문자면 일반적 메세지 오류 발생\n",
    "            else:\n",
    "                error = ''\n",
    "            if error:\n",
    "                msg = error.format(cls_name=cls.__name__, attr_name=name)\n",
    "                raise AttributeError(msg)\n",
    "        # 에러가 발생하지 않을 때는 정상적으로 __setattr__() 메서드 호출\n",
    "        super().__setattr__(name, value) \n",
    "        \n",
    "    def angle(self, n):\n",
    "        r = math.sqrt(sum(x * x for x in self[n:]))\n",
    "        a = math.atan2(r, self[n-1])\n",
    "        if (n == len(self) - 1) and (self[-1]<0):\n",
    "            return math.pi * 2 - a\n",
    "        else:\n",
    "            return a\n",
    "        \n",
    "    def angles(self):\n",
    "        return (self.angle(n) for n in range(1, len(self)))\n",
    "    \n",
    "    def __format__(self, fmt_spec=''):\n",
    "        if fmt_spec.endswith('h'): # 초구면좌표\n",
    "            fmt_spec = fmt_spec[:-1]\n",
    "            coords = itertools.chain([abs(self)],\n",
    "                                    self.angles()) \n",
    "            outer_fmt = '<{}>'\n",
    "        else:\n",
    "            coords = self\n",
    "            outer_fmt = '({})'\n",
    "        components = (format(c, fmt_spec) for c in coords)\n",
    "        return outer_fmt.format(', '.join(components))\n",
    "    \n",
    "    def __iter__(self):\n",
    "        return iter(self._components) # 반복할 수 있도록 구현\n",
    "    \n",
    "    def __repr__(self):\n",
    "        components = reprlib.repr(self._components) # 제한된 길이로 출력\n",
    "        components = components[components.find('['):-1] # 문자열 중 앞에 나오는 \"array('d',\" 를 제거\n",
    "        return 'Vector({})'.format(components)\n",
    "    \n",
    "    def __str__(self):\n",
    "        return str(tuple(self))\n",
    "    \n",
    "    def __bytes__(self):\n",
    "        return (bytes([ord(self.typecode)]) + \n",
    "               bytes(self._components))\n",
    "    \n",
    "    def __eq__(self, other):\n",
    "        if len(self) != len(other): # 길이가 다르면 False\n",
    "            return False\n",
    "        for a, b in zip(self, other): # 제너레이터로부터 하나씩 비교\n",
    "            if a != b:\n",
    "                return False\n",
    "        return True\n",
    "    \n",
    "    def __hash__(self):\n",
    "        hashes = (hash(x) for x in self._components) # 제너레이터 표현식 이용\n",
    "        return functools.reduce(operator.xor, hasehs, 0) # 초기값을 0으로 함\n",
    "    \n",
    "    def __abs__(self):\n",
    "        return math.sqrt(sum(x * x for x in self))\n",
    "    \n",
    "    def __bool__(self):\n",
    "        return bool(abs(self))\n",
    "    \n",
    "    @classmethod\n",
    "    def frombytes(cls, octets):\n",
    "        typecode = chr(octets[0])\n",
    "        memv = memoryview(octets[1:]).cast(typecode)\n",
    "        return cls(memv) # 언패킹할 필요가 없음\n",
    "    \n",
    "    # -x 구현\n",
    "    def __neg__(self):\n",
    "        return Vector(-x for x in self)\n",
    "    \n",
    "    # +x 구현\n",
    "    def __pos__(self):\n",
    "        return Vector(self)"
   ]
  },
  {
   "cell_type": "code",
   "execution_count": 14,
   "metadata": {},
   "outputs": [
    {
     "data": {
      "text/plain": [
       "(Vector([1.0, 2.0, 3.0]), Vector([1.0, 2.0, 3.0]), Vector([-1.0, -2.0, -3.0]))"
      ]
     },
     "execution_count": 14,
     "metadata": {},
     "output_type": "execute_result"
    }
   ],
   "source": [
    "v1 = Vector([1,2,3])\n",
    "v1, +v1, -v1"
   ]
  },
  {
   "cell_type": "markdown",
   "metadata": {},
   "source": [
    "일반적으로 x와 +x는 같으나 실수의 정밀도 수정, 그리고 collections.Counter를 사용할 때 일부 달라질 수 있다. 그러나 신경쓸 필요는 전혀 없을 것 같다."
   ]
  },
  {
   "cell_type": "code",
   "execution_count": 6,
   "metadata": {},
   "outputs": [
    {
     "data": {
      "text/plain": [
       "Decimal('0.3333333333333333333333333333333333333333')"
      ]
     },
     "execution_count": 6,
     "metadata": {},
     "output_type": "execute_result"
    }
   ],
   "source": [
    "import decimal \n",
    "ctx = decimal.getcontext()\n",
    "ctx.prec = 40\n",
    "one_third = decimal.Decimal('1') / decimal.Decimal('3')\n",
    "one_third"
   ]
  },
  {
   "cell_type": "code",
   "execution_count": 10,
   "metadata": {},
   "outputs": [
    {
     "data": {
      "text/plain": [
       "False"
      ]
     },
     "execution_count": 10,
     "metadata": {},
     "output_type": "execute_result"
    }
   ],
   "source": [
    "one_third == +one_third # 다른데???"
   ]
  },
  {
   "cell_type": "code",
   "execution_count": 8,
   "metadata": {},
   "outputs": [
    {
     "data": {
      "text/plain": [
       "False"
      ]
     },
     "execution_count": 8,
     "metadata": {},
     "output_type": "execute_result"
    }
   ],
   "source": [
    "ctx.prec = 28\n",
    "one_third == +one_third"
   ]
  },
  {
   "cell_type": "code",
   "execution_count": 9,
   "metadata": {},
   "outputs": [
    {
     "data": {
      "text/plain": [
       "Decimal('0.3333333333333333333333333333')"
      ]
     },
     "execution_count": 9,
     "metadata": {},
     "output_type": "execute_result"
    }
   ],
   "source": [
    "+one_third"
   ]
  },
  {
   "cell_type": "code",
   "execution_count": 11,
   "metadata": {},
   "outputs": [
    {
     "data": {
      "text/plain": [
       "Counter({'a': 5, 'b': 2, 'r': 2, 'c': 1, 'd': 1})"
      ]
     },
     "execution_count": 11,
     "metadata": {},
     "output_type": "execute_result"
    }
   ],
   "source": [
    "from collections import Counter\n",
    "ct = Counter('abracadabra')\n",
    "ct"
   ]
  },
  {
   "cell_type": "code",
   "execution_count": 12,
   "metadata": {},
   "outputs": [
    {
     "data": {
      "text/plain": [
       "Counter({'a': 5, 'b': 2, 'r': -3, 'c': 1, 'd': 0})"
      ]
     },
     "execution_count": 12,
     "metadata": {},
     "output_type": "execute_result"
    }
   ],
   "source": [
    "ct['r'] = -3\n",
    "ct['d'] = 0\n",
    "ct"
   ]
  },
  {
   "cell_type": "code",
   "execution_count": 13,
   "metadata": {},
   "outputs": [
    {
     "data": {
      "text/plain": [
       "Counter({'a': 5, 'b': 2, 'c': 1})"
      ]
     },
     "execution_count": 13,
     "metadata": {},
     "output_type": "execute_result"
    }
   ],
   "source": [
    "+ct"
   ]
  },
  {
   "cell_type": "markdown",
   "metadata": {},
   "source": [
    "## 13.3 벡터를 더하기 위해 + 오버로딩하기\n",
    "\n",
    "벡터 두 개를 더하면 양쪽 벡터 각 요소의 합으로 구성된 새로운 벡터가 생성되도록 구현해보자. 또한 길이가 다른 두 Vector 객체를 더하면 짧은 쪽 벡터의 빈 공간을 0으로 채워서 더하도록 구현한다.\n",
    "\n",
    "```python\n",
    "def __add__(self, other):\n",
    "    pairs = itertools.zip_longest(self, other, fillvalue=0.0)\n",
    "    return Vector(a + b for a, b in pairs)\n",
    "```\n",
    "\n",
    "`itertools.zip_longest` 메서드는 짧은 쪽 반복형의 빠진 값을 fillvalue로 채운다. 이때 `__add__()` 메서드는 `self`나 `other`의 값을 변경하지 않음에 주의!"
   ]
  },
  {
   "cell_type": "code",
   "execution_count": 20,
   "metadata": {
    "jupyter": {
     "source_hidden": true
    }
   },
   "outputs": [],
   "source": [
    "from array import array\n",
    "import reprlib\n",
    "import math\n",
    "import numbers\n",
    "import functools\n",
    "import operator\n",
    "import itertools # chain() 함수를 사용하기 위함\n",
    "\n",
    "class Vector:\n",
    "    typecode = 'd'\n",
    "    shortcut_names = 'xyzt'\n",
    "    \n",
    "    def __init__(self, components):\n",
    "        # 벡터 요소를 배열로 저장\n",
    "        self._components = array(self.typecode, components)\n",
    "    \n",
    "    \"\"\"시퀀스 프로토콜 구현\"\"\"\n",
    "    def __len__(self):\n",
    "        return len(self._components)\n",
    "    \n",
    "    def __getitem__(self, index):\n",
    "        cls = type(self) # 객체의 클래스를 가져옴\n",
    "        if isinstance(index, slice): # index가 슬라이스이면\n",
    "            return cls(self._components[index]) # Vector 객체를 생성\n",
    "        elif isinstance(index, numbers.Integral): # index가 정수형이면\n",
    "            return self._components[index] # 해당 항목 반환\n",
    "        else:\n",
    "            msg = '{cls.__name__} indices must be integers'\n",
    "            raise TypeError(msg.format(cls=cls)) \n",
    "    \"\"\"시퀀스 프로토콜 구현 종료\"\"\"\n",
    "    \n",
    "    def __getattr__(self, name):\n",
    "        cls = type(self)\n",
    "        if len(name) == 1: # name이 한글자이면 \n",
    "            pos = cls.shortcut_names.find(name)\n",
    "            if 0 <= pos < len(self._components): # 포지션이 범위 내에 있으면 배열 항목 반환\n",
    "                return self._components[pos]\n",
    "        msg = '{.__name__!r} object has no attribute {!r}' \n",
    "        raise AttributeError(msg.format(cls, name))\n",
    "        \n",
    "    def __setattr__(self, name, value):\n",
    "        cls = type(self)\n",
    "        if len(name) == 1:\n",
    "            if name in cls.shortcut_names:\n",
    "                error = 'readonly attribute {attr_name!r}' # xyzt 중 하나는 구체적으로 오류 발생\n",
    "            elif name.islower():\n",
    "                error = \"can't set attributes 'a' to 'z' in {cls_name!r}\" # 그외 소문자면 일반적 메세지 오류 발생\n",
    "            else:\n",
    "                error = ''\n",
    "            if error:\n",
    "                msg = error.format(cls_name=cls.__name__, attr_name=name)\n",
    "                raise AttributeError(msg)\n",
    "        # 에러가 발생하지 않을 때는 정상적으로 __setattr__() 메서드 호출\n",
    "        super().__setattr__(name, value) \n",
    "        \n",
    "    def angle(self, n):\n",
    "        r = math.sqrt(sum(x * x for x in self[n:]))\n",
    "        a = math.atan2(r, self[n-1])\n",
    "        if (n == len(self) - 1) and (self[-1]<0):\n",
    "            return math.pi * 2 - a\n",
    "        else:\n",
    "            return a\n",
    "        \n",
    "    def angles(self):\n",
    "        return (self.angle(n) for n in range(1, len(self)))\n",
    "    \n",
    "    def __format__(self, fmt_spec=''):\n",
    "        if fmt_spec.endswith('h'): # 초구면좌표\n",
    "            fmt_spec = fmt_spec[:-1]\n",
    "            coords = itertools.chain([abs(self)],\n",
    "                                    self.angles()) \n",
    "            outer_fmt = '<{}>'\n",
    "        else:\n",
    "            coords = self\n",
    "            outer_fmt = '({})'\n",
    "        components = (format(c, fmt_spec) for c in coords)\n",
    "        return outer_fmt.format(', '.join(components))\n",
    "    \n",
    "    def __iter__(self):\n",
    "        return iter(self._components) # 반복할 수 있도록 구현\n",
    "    \n",
    "    def __repr__(self):\n",
    "        components = reprlib.repr(self._components) # 제한된 길이로 출력\n",
    "        components = components[components.find('['):-1] # 문자열 중 앞에 나오는 \"array('d',\" 를 제거\n",
    "        return 'Vector({})'.format(components)\n",
    "    \n",
    "    def __str__(self):\n",
    "        return str(tuple(self))\n",
    "    \n",
    "    def __bytes__(self):\n",
    "        return (bytes([ord(self.typecode)]) + \n",
    "               bytes(self._components))\n",
    "    \n",
    "    def __eq__(self, other):\n",
    "        if len(self) != len(other): # 길이가 다르면 False\n",
    "            return False\n",
    "        for a, b in zip(self, other): # 제너레이터로부터 하나씩 비교\n",
    "            if a != b:\n",
    "                return False\n",
    "        return True\n",
    "    \n",
    "    def __hash__(self):\n",
    "        hashes = (hash(x) for x in self._components) # 제너레이터 표현식 이용\n",
    "        return functools.reduce(operator.xor, hasehs, 0) # 초기값을 0으로 함\n",
    "    \n",
    "    def __abs__(self):\n",
    "        return math.sqrt(sum(x * x for x in self))\n",
    "    \n",
    "    def __bool__(self):\n",
    "        return bool(abs(self))\n",
    "    \n",
    "    @classmethod\n",
    "    def frombytes(cls, octets):\n",
    "        typecode = chr(octets[0])\n",
    "        memv = memoryview(octets[1:]).cast(typecode)\n",
    "        return cls(memv) # 언패킹할 필요가 없음\n",
    "    \n",
    "    # -x 구현\n",
    "    def __neg__(self):\n",
    "        return Vector(-x for x in self)\n",
    "    \n",
    "    # +x 구현\n",
    "    def __pos__(self):\n",
    "        return Vector(self)\n",
    "\n",
    "    def __add__(self, other):\n",
    "        pairs = itertools.zip_longest(self, other, fillvalue=0.0)\n",
    "        return Vector(a + b for a, b in pairs)"
   ]
  },
  {
   "cell_type": "code",
   "execution_count": 19,
   "metadata": {},
   "outputs": [
    {
     "data": {
      "text/plain": [
       "Vector([13.0, 24.0, 35.0])"
      ]
     },
     "execution_count": 19,
     "metadata": {},
     "output_type": "execute_result"
    }
   ],
   "source": [
    "v1 = Vector([3,4,5])\n",
    "v1 + (10, 20, 30)"
   ]
  },
  {
   "cell_type": "code",
   "execution_count": 21,
   "metadata": {},
   "outputs": [
    {
     "data": {
      "text/plain": [
       "Vector([4.0, 6.0, 5.0])"
      ]
     },
     "execution_count": 21,
     "metadata": {},
     "output_type": "execute_result"
    }
   ],
   "source": [
    "from vector2d_v3 import Vector2d\n",
    "v2d = Vector2d(1,2)\n",
    "v1 + v2d"
   ]
  },
  {
   "cell_type": "markdown",
   "metadata": {},
   "source": [
    "어떠한 반복형 객체라도 사용할 수 있는 `zip_longest()` 함수를 사용하므로 다양한 반복형을 사용할 수 있다. 그러나 순서를 바꾸면 안된다."
   ]
  },
  {
   "cell_type": "code",
   "execution_count": 22,
   "metadata": {},
   "outputs": [
    {
     "ename": "TypeError",
     "evalue": "can only concatenate tuple (not \"Vector\") to tuple",
     "output_type": "error",
     "traceback": [
      "\u001b[0;31m---------------------------------------------------------------------------\u001b[0m",
      "\u001b[0;31mTypeError\u001b[0m                                 Traceback (most recent call last)",
      "\u001b[0;32m<ipython-input-22-15b1329ad790>\u001b[0m in \u001b[0;36m<module>\u001b[0;34m\u001b[0m\n\u001b[0;32m----> 1\u001b[0;31m \u001b[0;34m(\u001b[0m\u001b[0;36m10\u001b[0m\u001b[0;34m,\u001b[0m \u001b[0;36m20\u001b[0m\u001b[0;34m,\u001b[0m \u001b[0;36m30\u001b[0m\u001b[0;34m)\u001b[0m \u001b[0;34m+\u001b[0m \u001b[0mv1\u001b[0m\u001b[0;34m\u001b[0m\u001b[0;34m\u001b[0m\u001b[0m\n\u001b[0m",
      "\u001b[0;31mTypeError\u001b[0m: can only concatenate tuple (not \"Vector\") to tuple"
     ]
    }
   ],
   "source": [
    "(10, 20, 30) + v1"
   ]
  },
  {
   "cell_type": "code",
   "execution_count": 23,
   "metadata": {},
   "outputs": [
    {
     "ename": "TypeError",
     "evalue": "unsupported operand type(s) for +: 'Vector2d' and 'Vector'",
     "output_type": "error",
     "traceback": [
      "\u001b[0;31m---------------------------------------------------------------------------\u001b[0m",
      "\u001b[0;31mTypeError\u001b[0m                                 Traceback (most recent call last)",
      "\u001b[0;32m<ipython-input-23-be5db45ab369>\u001b[0m in \u001b[0;36m<module>\u001b[0;34m\u001b[0m\n\u001b[0;32m----> 1\u001b[0;31m \u001b[0mv2d\u001b[0m \u001b[0;34m+\u001b[0m \u001b[0mv1\u001b[0m\u001b[0;34m\u001b[0m\u001b[0;34m\u001b[0m\u001b[0m\n\u001b[0m",
      "\u001b[0;31mTypeError\u001b[0m: unsupported operand type(s) for +: 'Vector2d' and 'Vector'"
     ]
    }
   ],
   "source": [
    "v2d + v1"
   ]
  },
  {
   "cell_type": "markdown",
   "metadata": {},
   "source": [
    "이를 해결하기 위해서는 파이썬이 중위 연산자를 처리하는 로직을 파악할 필요가 있다. `a + b` 는 다음과 같은 절차에 의해 처리된다.\n",
    "\n",
    "1. `a`에 `__add__()` 메서드가 정의되어 있으면 `a.__add__(b)`를 호출하고, 결과가 `NotImplemented`가 아니면 반환\n",
    "1. `a`에 `__add__()` 메서드가 정의되어 있지 않거나 정의되어 있더라도 호출 후 `NotImplemented`가 반환되면, `b`에 `__radd__()` 메서드가 정의되어 있는지 확인해서 `b.__radd__(a)`를 호출하고 결과가 `NotImplemented`가 아니면 반환\n",
    "1. `b`에 `__radd__()`가 정의되어 있지 않거나 정의되어 있더라도 호출 후 `NotImplemented`가 반환되면 __지원하지 않는 피연산자형__이라는 메세지와 함께 TypeError 발생\n",
    "\n",
    "따라서 혼합형 덧셈을 제대로 실행하려면 `Vector.__radd__()` 메서드를 다음과 같이 구현하면 된다.\n",
    "\n",
    "```python\n",
    "def __radd__(self, other):\n",
    "    return self + other\n",
    "```"
   ]
  },
  {
   "cell_type": "code",
   "execution_count": 24,
   "metadata": {
    "jupyter": {
     "source_hidden": true
    }
   },
   "outputs": [],
   "source": [
    "from array import array\n",
    "import reprlib\n",
    "import math\n",
    "import numbers\n",
    "import functools\n",
    "import operator\n",
    "import itertools # chain() 함수를 사용하기 위함\n",
    "\n",
    "class Vector:\n",
    "    typecode = 'd'\n",
    "    shortcut_names = 'xyzt'\n",
    "    \n",
    "    def __init__(self, components):\n",
    "        # 벡터 요소를 배열로 저장\n",
    "        self._components = array(self.typecode, components)\n",
    "    \n",
    "    \"\"\"시퀀스 프로토콜 구현\"\"\"\n",
    "    def __len__(self):\n",
    "        return len(self._components)\n",
    "    \n",
    "    def __getitem__(self, index):\n",
    "        cls = type(self) # 객체의 클래스를 가져옴\n",
    "        if isinstance(index, slice): # index가 슬라이스이면\n",
    "            return cls(self._components[index]) # Vector 객체를 생성\n",
    "        elif isinstance(index, numbers.Integral): # index가 정수형이면\n",
    "            return self._components[index] # 해당 항목 반환\n",
    "        else:\n",
    "            msg = '{cls.__name__} indices must be integers'\n",
    "            raise TypeError(msg.format(cls=cls)) \n",
    "    \"\"\"시퀀스 프로토콜 구현 종료\"\"\"\n",
    "    \n",
    "    def __getattr__(self, name):\n",
    "        cls = type(self)\n",
    "        if len(name) == 1: # name이 한글자이면 \n",
    "            pos = cls.shortcut_names.find(name)\n",
    "            if 0 <= pos < len(self._components): # 포지션이 범위 내에 있으면 배열 항목 반환\n",
    "                return self._components[pos]\n",
    "        msg = '{.__name__!r} object has no attribute {!r}' \n",
    "        raise AttributeError(msg.format(cls, name))\n",
    "        \n",
    "    def __setattr__(self, name, value):\n",
    "        cls = type(self)\n",
    "        if len(name) == 1:\n",
    "            if name in cls.shortcut_names:\n",
    "                error = 'readonly attribute {attr_name!r}' # xyzt 중 하나는 구체적으로 오류 발생\n",
    "            elif name.islower():\n",
    "                error = \"can't set attributes 'a' to 'z' in {cls_name!r}\" # 그외 소문자면 일반적 메세지 오류 발생\n",
    "            else:\n",
    "                error = ''\n",
    "            if error:\n",
    "                msg = error.format(cls_name=cls.__name__, attr_name=name)\n",
    "                raise AttributeError(msg)\n",
    "        # 에러가 발생하지 않을 때는 정상적으로 __setattr__() 메서드 호출\n",
    "        super().__setattr__(name, value) \n",
    "        \n",
    "    def angle(self, n):\n",
    "        r = math.sqrt(sum(x * x for x in self[n:]))\n",
    "        a = math.atan2(r, self[n-1])\n",
    "        if (n == len(self) - 1) and (self[-1]<0):\n",
    "            return math.pi * 2 - a\n",
    "        else:\n",
    "            return a\n",
    "        \n",
    "    def angles(self):\n",
    "        return (self.angle(n) for n in range(1, len(self)))\n",
    "    \n",
    "    def __format__(self, fmt_spec=''):\n",
    "        if fmt_spec.endswith('h'): # 초구면좌표\n",
    "            fmt_spec = fmt_spec[:-1]\n",
    "            coords = itertools.chain([abs(self)],\n",
    "                                    self.angles()) \n",
    "            outer_fmt = '<{}>'\n",
    "        else:\n",
    "            coords = self\n",
    "            outer_fmt = '({})'\n",
    "        components = (format(c, fmt_spec) for c in coords)\n",
    "        return outer_fmt.format(', '.join(components))\n",
    "    \n",
    "    def __iter__(self):\n",
    "        return iter(self._components) # 반복할 수 있도록 구현\n",
    "    \n",
    "    def __repr__(self):\n",
    "        components = reprlib.repr(self._components) # 제한된 길이로 출력\n",
    "        components = components[components.find('['):-1] # 문자열 중 앞에 나오는 \"array('d',\" 를 제거\n",
    "        return 'Vector({})'.format(components)\n",
    "    \n",
    "    def __str__(self):\n",
    "        return str(tuple(self))\n",
    "    \n",
    "    def __bytes__(self):\n",
    "        return (bytes([ord(self.typecode)]) + \n",
    "               bytes(self._components))\n",
    "    \n",
    "    def __eq__(self, other):\n",
    "        if len(self) != len(other): # 길이가 다르면 False\n",
    "            return False\n",
    "        for a, b in zip(self, other): # 제너레이터로부터 하나씩 비교\n",
    "            if a != b:\n",
    "                return False\n",
    "        return True\n",
    "    \n",
    "    def __hash__(self):\n",
    "        hashes = (hash(x) for x in self._components) # 제너레이터 표현식 이용\n",
    "        return functools.reduce(operator.xor, hasehs, 0) # 초기값을 0으로 함\n",
    "    \n",
    "    def __abs__(self):\n",
    "        return math.sqrt(sum(x * x for x in self))\n",
    "    \n",
    "    def __bool__(self):\n",
    "        return bool(abs(self))\n",
    "    \n",
    "    @classmethod\n",
    "    def frombytes(cls, octets):\n",
    "        typecode = chr(octets[0])\n",
    "        memv = memoryview(octets[1:]).cast(typecode)\n",
    "        return cls(memv) # 언패킹할 필요가 없음\n",
    "    \n",
    "    # -x 구현\n",
    "    def __neg__(self):\n",
    "        return Vector(-x for x in self)\n",
    "    \n",
    "    # +x 구현\n",
    "    def __pos__(self):\n",
    "        return Vector(self)\n",
    "\n",
    "    def __add__(self, other):\n",
    "        pairs = itertools.zip_longest(self, other, fillvalue=0.0)\n",
    "        return Vector(a + b for a, b in pairs)\n",
    "    \n",
    "    def __radd__(self, other):\n",
    "        return self + other"
   ]
  },
  {
   "cell_type": "code",
   "execution_count": 26,
   "metadata": {},
   "outputs": [
    {
     "data": {
      "text/plain": [
       "Vector([13.0, 24.0, 35.0])"
      ]
     },
     "execution_count": 26,
     "metadata": {},
     "output_type": "execute_result"
    }
   ],
   "source": [
    "v1 = Vector([3,4,5])\n",
    "(10, 20, 30) + v1"
   ]
  },
  {
   "cell_type": "code",
   "execution_count": 27,
   "metadata": {},
   "outputs": [
    {
     "data": {
      "text/plain": [
       "Vector([4.0, 6.0, 5.0])"
      ]
     },
     "execution_count": 27,
     "metadata": {},
     "output_type": "execute_result"
    }
   ],
   "source": [
    "v2d + v1"
   ]
  },
  {
   "cell_type": "markdown",
   "metadata": {},
   "source": [
    "다만 비반복형 객체에 적용하면 에러가 난다."
   ]
  },
  {
   "cell_type": "code",
   "execution_count": 28,
   "metadata": {},
   "outputs": [
    {
     "ename": "TypeError",
     "evalue": "zip_longest argument #2 must support iteration",
     "output_type": "error",
     "traceback": [
      "\u001b[0;31m---------------------------------------------------------------------------\u001b[0m",
      "\u001b[0;31mTypeError\u001b[0m                                 Traceback (most recent call last)",
      "\u001b[0;32m<ipython-input-28-4c3a4f2e82c5>\u001b[0m in \u001b[0;36m<module>\u001b[0;34m\u001b[0m\n\u001b[0;32m----> 1\u001b[0;31m \u001b[0mv1\u001b[0m \u001b[0;34m+\u001b[0m \u001b[0;36m1\u001b[0m\u001b[0;34m\u001b[0m\u001b[0;34m\u001b[0m\u001b[0m\n\u001b[0m",
      "\u001b[0;32m<ipython-input-24-a90defe982bc>\u001b[0m in \u001b[0;36m__add__\u001b[0;34m(self, other)\u001b[0m\n\u001b[1;32m    125\u001b[0m \u001b[0;34m\u001b[0m\u001b[0m\n\u001b[1;32m    126\u001b[0m     \u001b[0;32mdef\u001b[0m \u001b[0m__add__\u001b[0m\u001b[0;34m(\u001b[0m\u001b[0mself\u001b[0m\u001b[0;34m,\u001b[0m \u001b[0mother\u001b[0m\u001b[0;34m)\u001b[0m\u001b[0;34m:\u001b[0m\u001b[0;34m\u001b[0m\u001b[0;34m\u001b[0m\u001b[0m\n\u001b[0;32m--> 127\u001b[0;31m         \u001b[0mpairs\u001b[0m \u001b[0;34m=\u001b[0m \u001b[0mitertools\u001b[0m\u001b[0;34m.\u001b[0m\u001b[0mzip_longest\u001b[0m\u001b[0;34m(\u001b[0m\u001b[0mself\u001b[0m\u001b[0;34m,\u001b[0m \u001b[0mother\u001b[0m\u001b[0;34m,\u001b[0m \u001b[0mfillvalue\u001b[0m\u001b[0;34m=\u001b[0m\u001b[0;36m0.0\u001b[0m\u001b[0;34m)\u001b[0m\u001b[0;34m\u001b[0m\u001b[0;34m\u001b[0m\u001b[0m\n\u001b[0m\u001b[1;32m    128\u001b[0m         \u001b[0;32mreturn\u001b[0m \u001b[0mVector\u001b[0m\u001b[0;34m(\u001b[0m\u001b[0ma\u001b[0m \u001b[0;34m+\u001b[0m \u001b[0mb\u001b[0m \u001b[0;32mfor\u001b[0m \u001b[0ma\u001b[0m\u001b[0;34m,\u001b[0m \u001b[0mb\u001b[0m \u001b[0;32min\u001b[0m \u001b[0mpairs\u001b[0m\u001b[0;34m)\u001b[0m\u001b[0;34m\u001b[0m\u001b[0;34m\u001b[0m\u001b[0m\n\u001b[1;32m    129\u001b[0m \u001b[0;34m\u001b[0m\u001b[0m\n",
      "\u001b[0;31mTypeError\u001b[0m: zip_longest argument #2 must support iteration"
     ]
    }
   ],
   "source": [
    "v1 + 1"
   ]
  },
  {
   "cell_type": "code",
   "execution_count": 29,
   "metadata": {},
   "outputs": [
    {
     "ename": "TypeError",
     "evalue": "unsupported operand type(s) for +: 'float' and 'str'",
     "output_type": "error",
     "traceback": [
      "\u001b[0;31m---------------------------------------------------------------------------\u001b[0m",
      "\u001b[0;31mTypeError\u001b[0m                                 Traceback (most recent call last)",
      "\u001b[0;32m<ipython-input-29-7cefd87c955c>\u001b[0m in \u001b[0;36m<module>\u001b[0;34m\u001b[0m\n\u001b[0;32m----> 1\u001b[0;31m \u001b[0mv1\u001b[0m \u001b[0;34m+\u001b[0m \u001b[0;34m'ABC'\u001b[0m\u001b[0;34m\u001b[0m\u001b[0;34m\u001b[0m\u001b[0m\n\u001b[0m",
      "\u001b[0;32m<ipython-input-24-a90defe982bc>\u001b[0m in \u001b[0;36m__add__\u001b[0;34m(self, other)\u001b[0m\n\u001b[1;32m    126\u001b[0m     \u001b[0;32mdef\u001b[0m \u001b[0m__add__\u001b[0m\u001b[0;34m(\u001b[0m\u001b[0mself\u001b[0m\u001b[0;34m,\u001b[0m \u001b[0mother\u001b[0m\u001b[0;34m)\u001b[0m\u001b[0;34m:\u001b[0m\u001b[0;34m\u001b[0m\u001b[0;34m\u001b[0m\u001b[0m\n\u001b[1;32m    127\u001b[0m         \u001b[0mpairs\u001b[0m \u001b[0;34m=\u001b[0m \u001b[0mitertools\u001b[0m\u001b[0;34m.\u001b[0m\u001b[0mzip_longest\u001b[0m\u001b[0;34m(\u001b[0m\u001b[0mself\u001b[0m\u001b[0;34m,\u001b[0m \u001b[0mother\u001b[0m\u001b[0;34m,\u001b[0m \u001b[0mfillvalue\u001b[0m\u001b[0;34m=\u001b[0m\u001b[0;36m0.0\u001b[0m\u001b[0;34m)\u001b[0m\u001b[0;34m\u001b[0m\u001b[0;34m\u001b[0m\u001b[0m\n\u001b[0;32m--> 128\u001b[0;31m         \u001b[0;32mreturn\u001b[0m \u001b[0mVector\u001b[0m\u001b[0;34m(\u001b[0m\u001b[0ma\u001b[0m \u001b[0;34m+\u001b[0m \u001b[0mb\u001b[0m \u001b[0;32mfor\u001b[0m \u001b[0ma\u001b[0m\u001b[0;34m,\u001b[0m \u001b[0mb\u001b[0m \u001b[0;32min\u001b[0m \u001b[0mpairs\u001b[0m\u001b[0;34m)\u001b[0m\u001b[0;34m\u001b[0m\u001b[0;34m\u001b[0m\u001b[0m\n\u001b[0m\u001b[1;32m    129\u001b[0m \u001b[0;34m\u001b[0m\u001b[0m\n\u001b[1;32m    130\u001b[0m     \u001b[0;32mdef\u001b[0m \u001b[0m__radd__\u001b[0m\u001b[0;34m(\u001b[0m\u001b[0mself\u001b[0m\u001b[0;34m,\u001b[0m \u001b[0mother\u001b[0m\u001b[0;34m)\u001b[0m\u001b[0;34m:\u001b[0m\u001b[0;34m\u001b[0m\u001b[0;34m\u001b[0m\u001b[0m\n",
      "\u001b[0;32m<ipython-input-24-a90defe982bc>\u001b[0m in \u001b[0;36m__init__\u001b[0;34m(self, components)\u001b[0m\n\u001b[1;32m     13\u001b[0m     \u001b[0;32mdef\u001b[0m \u001b[0m__init__\u001b[0m\u001b[0;34m(\u001b[0m\u001b[0mself\u001b[0m\u001b[0;34m,\u001b[0m \u001b[0mcomponents\u001b[0m\u001b[0;34m)\u001b[0m\u001b[0;34m:\u001b[0m\u001b[0;34m\u001b[0m\u001b[0;34m\u001b[0m\u001b[0m\n\u001b[1;32m     14\u001b[0m         \u001b[0;31m# 벡터 요소를 배열로 저장\u001b[0m\u001b[0;34m\u001b[0m\u001b[0;34m\u001b[0m\u001b[0;34m\u001b[0m\u001b[0m\n\u001b[0;32m---> 15\u001b[0;31m         \u001b[0mself\u001b[0m\u001b[0;34m.\u001b[0m\u001b[0m_components\u001b[0m \u001b[0;34m=\u001b[0m \u001b[0marray\u001b[0m\u001b[0;34m(\u001b[0m\u001b[0mself\u001b[0m\u001b[0;34m.\u001b[0m\u001b[0mtypecode\u001b[0m\u001b[0;34m,\u001b[0m \u001b[0mcomponents\u001b[0m\u001b[0;34m)\u001b[0m\u001b[0;34m\u001b[0m\u001b[0;34m\u001b[0m\u001b[0m\n\u001b[0m\u001b[1;32m     16\u001b[0m \u001b[0;34m\u001b[0m\u001b[0m\n\u001b[1;32m     17\u001b[0m     \u001b[0;34m\"\"\"시퀀스 프로토콜 구현\"\"\"\u001b[0m\u001b[0;34m\u001b[0m\u001b[0;34m\u001b[0m\u001b[0m\n",
      "\u001b[0;32m<ipython-input-24-a90defe982bc>\u001b[0m in \u001b[0;36m<genexpr>\u001b[0;34m(.0)\u001b[0m\n\u001b[1;32m    126\u001b[0m     \u001b[0;32mdef\u001b[0m \u001b[0m__add__\u001b[0m\u001b[0;34m(\u001b[0m\u001b[0mself\u001b[0m\u001b[0;34m,\u001b[0m \u001b[0mother\u001b[0m\u001b[0;34m)\u001b[0m\u001b[0;34m:\u001b[0m\u001b[0;34m\u001b[0m\u001b[0;34m\u001b[0m\u001b[0m\n\u001b[1;32m    127\u001b[0m         \u001b[0mpairs\u001b[0m \u001b[0;34m=\u001b[0m \u001b[0mitertools\u001b[0m\u001b[0;34m.\u001b[0m\u001b[0mzip_longest\u001b[0m\u001b[0;34m(\u001b[0m\u001b[0mself\u001b[0m\u001b[0;34m,\u001b[0m \u001b[0mother\u001b[0m\u001b[0;34m,\u001b[0m \u001b[0mfillvalue\u001b[0m\u001b[0;34m=\u001b[0m\u001b[0;36m0.0\u001b[0m\u001b[0;34m)\u001b[0m\u001b[0;34m\u001b[0m\u001b[0;34m\u001b[0m\u001b[0m\n\u001b[0;32m--> 128\u001b[0;31m         \u001b[0;32mreturn\u001b[0m \u001b[0mVector\u001b[0m\u001b[0;34m(\u001b[0m\u001b[0ma\u001b[0m \u001b[0;34m+\u001b[0m \u001b[0mb\u001b[0m \u001b[0;32mfor\u001b[0m \u001b[0ma\u001b[0m\u001b[0;34m,\u001b[0m \u001b[0mb\u001b[0m \u001b[0;32min\u001b[0m \u001b[0mpairs\u001b[0m\u001b[0;34m)\u001b[0m\u001b[0;34m\u001b[0m\u001b[0;34m\u001b[0m\u001b[0m\n\u001b[0m\u001b[1;32m    129\u001b[0m \u001b[0;34m\u001b[0m\u001b[0m\n\u001b[1;32m    130\u001b[0m     \u001b[0;32mdef\u001b[0m \u001b[0m__radd__\u001b[0m\u001b[0;34m(\u001b[0m\u001b[0mself\u001b[0m\u001b[0;34m,\u001b[0m \u001b[0mother\u001b[0m\u001b[0;34m)\u001b[0m\u001b[0;34m:\u001b[0m\u001b[0;34m\u001b[0m\u001b[0;34m\u001b[0m\u001b[0m\n",
      "\u001b[0;31mTypeError\u001b[0m: unsupported operand type(s) for +: 'float' and 'str'"
     ]
    }
   ],
   "source": [
    "v1 + 'ABC'"
   ]
  },
  {
   "cell_type": "markdown",
   "metadata": {},
   "source": [
    "위 두 예제는 심각한 문제가 있다. 비호환성 문제 때문에 적절한 결과를 반환할 수 없을 때는 TypeError가 아닌 NotImplemented를 반환해야 파이썬이 다른 피연산자 자료형의 구현자에게 연산을 처리할 수 있는 기회를 줄 수 있기 때문이다. 따라서 다음과 같이 수정하자.\n",
    "\n",
    "```python\n",
    "def __add__(self, other):\n",
    "    try:\n",
    "        pairs = itertools.zip_longest(self, other, fillvalue=0.0)\n",
    "        return Vector(a + b for a, b in pairs)\n",
    "    except TypeError:\n",
    "        return NotImplemented\n",
    "    \n",
    "def __radd__(self, other):\n",
    "    return self + other\n",
    "```"
   ]
  },
  {
   "cell_type": "code",
   "execution_count": 30,
   "metadata": {
    "jupyter": {
     "source_hidden": true
    }
   },
   "outputs": [],
   "source": [
    "from array import array\n",
    "import reprlib\n",
    "import math\n",
    "import numbers\n",
    "import functools\n",
    "import operator\n",
    "import itertools # chain() 함수를 사용하기 위함\n",
    "\n",
    "class Vector:\n",
    "    typecode = 'd'\n",
    "    shortcut_names = 'xyzt'\n",
    "    \n",
    "    def __init__(self, components):\n",
    "        # 벡터 요소를 배열로 저장\n",
    "        self._components = array(self.typecode, components)\n",
    "    \n",
    "    \"\"\"시퀀스 프로토콜 구현\"\"\"\n",
    "    def __len__(self):\n",
    "        return len(self._components)\n",
    "    \n",
    "    def __getitem__(self, index):\n",
    "        cls = type(self) # 객체의 클래스를 가져옴\n",
    "        if isinstance(index, slice): # index가 슬라이스이면\n",
    "            return cls(self._components[index]) # Vector 객체를 생성\n",
    "        elif isinstance(index, numbers.Integral): # index가 정수형이면\n",
    "            return self._components[index] # 해당 항목 반환\n",
    "        else:\n",
    "            msg = '{cls.__name__} indices must be integers'\n",
    "            raise TypeError(msg.format(cls=cls)) \n",
    "    \"\"\"시퀀스 프로토콜 구현 종료\"\"\"\n",
    "    \n",
    "    def __getattr__(self, name):\n",
    "        cls = type(self)\n",
    "        if len(name) == 1: # name이 한글자이면 \n",
    "            pos = cls.shortcut_names.find(name)\n",
    "            if 0 <= pos < len(self._components): # 포지션이 범위 내에 있으면 배열 항목 반환\n",
    "                return self._components[pos]\n",
    "        msg = '{.__name__!r} object has no attribute {!r}' \n",
    "        raise AttributeError(msg.format(cls, name))\n",
    "        \n",
    "    def __setattr__(self, name, value):\n",
    "        cls = type(self)\n",
    "        if len(name) == 1:\n",
    "            if name in cls.shortcut_names:\n",
    "                error = 'readonly attribute {attr_name!r}' # xyzt 중 하나는 구체적으로 오류 발생\n",
    "            elif name.islower():\n",
    "                error = \"can't set attributes 'a' to 'z' in {cls_name!r}\" # 그외 소문자면 일반적 메세지 오류 발생\n",
    "            else:\n",
    "                error = ''\n",
    "            if error:\n",
    "                msg = error.format(cls_name=cls.__name__, attr_name=name)\n",
    "                raise AttributeError(msg)\n",
    "        # 에러가 발생하지 않을 때는 정상적으로 __setattr__() 메서드 호출\n",
    "        super().__setattr__(name, value) \n",
    "        \n",
    "    def angle(self, n):\n",
    "        r = math.sqrt(sum(x * x for x in self[n:]))\n",
    "        a = math.atan2(r, self[n-1])\n",
    "        if (n == len(self) - 1) and (self[-1]<0):\n",
    "            return math.pi * 2 - a\n",
    "        else:\n",
    "            return a\n",
    "        \n",
    "    def angles(self):\n",
    "        return (self.angle(n) for n in range(1, len(self)))\n",
    "    \n",
    "    def __format__(self, fmt_spec=''):\n",
    "        if fmt_spec.endswith('h'): # 초구면좌표\n",
    "            fmt_spec = fmt_spec[:-1]\n",
    "            coords = itertools.chain([abs(self)],\n",
    "                                    self.angles()) \n",
    "            outer_fmt = '<{}>'\n",
    "        else:\n",
    "            coords = self\n",
    "            outer_fmt = '({})'\n",
    "        components = (format(c, fmt_spec) for c in coords)\n",
    "        return outer_fmt.format(', '.join(components))\n",
    "    \n",
    "    def __iter__(self):\n",
    "        return iter(self._components) # 반복할 수 있도록 구현\n",
    "    \n",
    "    def __repr__(self):\n",
    "        components = reprlib.repr(self._components) # 제한된 길이로 출력\n",
    "        components = components[components.find('['):-1] # 문자열 중 앞에 나오는 \"array('d',\" 를 제거\n",
    "        return 'Vector({})'.format(components)\n",
    "    \n",
    "    def __str__(self):\n",
    "        return str(tuple(self))\n",
    "    \n",
    "    def __bytes__(self):\n",
    "        return (bytes([ord(self.typecode)]) + \n",
    "               bytes(self._components))\n",
    "    \n",
    "    def __eq__(self, other):\n",
    "        if len(self) != len(other): # 길이가 다르면 False\n",
    "            return False\n",
    "        for a, b in zip(self, other): # 제너레이터로부터 하나씩 비교\n",
    "            if a != b:\n",
    "                return False\n",
    "        return True\n",
    "    \n",
    "    def __hash__(self):\n",
    "        hashes = (hash(x) for x in self._components) # 제너레이터 표현식 이용\n",
    "        return functools.reduce(operator.xor, hasehs, 0) # 초기값을 0으로 함\n",
    "    \n",
    "    def __abs__(self):\n",
    "        return math.sqrt(sum(x * x for x in self))\n",
    "    \n",
    "    def __bool__(self):\n",
    "        return bool(abs(self))\n",
    "    \n",
    "    @classmethod\n",
    "    def frombytes(cls, octets):\n",
    "        typecode = chr(octets[0])\n",
    "        memv = memoryview(octets[1:]).cast(typecode)\n",
    "        return cls(memv) # 언패킹할 필요가 없음\n",
    "    \n",
    "    # -x 구현\n",
    "    def __neg__(self):\n",
    "        return Vector(-x for x in self)\n",
    "    \n",
    "    # +x 구현\n",
    "    def __pos__(self):\n",
    "        return Vector(self)\n",
    "\n",
    "    def __add__(self, other):\n",
    "        try:\n",
    "            pairs = itertools.zip_longest(self, other, fillvalue=0.0)\n",
    "            return Vector(a + b for a, b in pairs)\n",
    "        except TypeError:\n",
    "            return NotImplemented\n",
    "\n",
    "    def __radd__(self, other):\n",
    "        return self + other"
   ]
  },
  {
   "cell_type": "markdown",
   "metadata": {},
   "source": [
    "## 13.4 벡터를 스칼라와 곱하기 위해 `*` 오버로딩하기\n",
    "\n",
    "`Vector` 클래스에 스칼라곱을 정의하자. 먼저 다음과 같이 간단하게 구현해보자.\n",
    "\n",
    "```python\n",
    "def __mul__(self, scalar):\n",
    "    return Vector(n * scalar for n in self)\n",
    "\n",
    "def __rmul__(self, scalar):\n",
    "    return self * scalar\n",
    "```\n",
    "\n",
    "`scalar` 인수는 `float` 형을 곱했을 때 `float` 형 결과가 나오는 숫자여야 한다. 따라서 `int`, `bool`, `fractions.Fraction` 등도 가능하다. \n",
    "\n",
    "이제 TypeError를 잡기 위해 구스 타이핑 기법을 이용해보자. `isinstance(numbers.Real)` ABC를 이용하면 이 메서드에 필요한 자료형을 모두 포함할 뿐 아니라 향후에 `numbers.Real` ABC의 실제 서브클래스나 가상 서브클래스로 선언된 수치형 자료도 모두 포함한다.\n",
    "\n",
    "```python\n",
    "def __mul__(self, scalar):\n",
    "    if isinstance(scalar, numbers.Real): # scalar가 numbers.Real 서브클래스의 객체면 Vector 객체 생성\n",
    "        return Vector(n * scalar for n in self)\n",
    "    else: # 아니면 NotImplemented를 반환해서 스칼라 피연산자에 __rmul__()` 메서드를 시도해볼 수 있도록 한다\n",
    "        return NotImplemented \n",
    "\n",
    "def __rmul__(self, scalar):\n",
    "    return self * scalar\n",
    "```"
   ]
  },
  {
   "cell_type": "code",
   "execution_count": 32,
   "metadata": {
    "jupyter": {
     "source_hidden": true
    }
   },
   "outputs": [],
   "source": [
    "from array import array\n",
    "import reprlib\n",
    "import math\n",
    "import numbers\n",
    "import functools\n",
    "import operator\n",
    "import itertools # chain() 함수를 사용하기 위함\n",
    "\n",
    "class Vector:\n",
    "    typecode = 'd'\n",
    "    shortcut_names = 'xyzt'\n",
    "    \n",
    "    def __init__(self, components):\n",
    "        # 벡터 요소를 배열로 저장\n",
    "        self._components = array(self.typecode, components)\n",
    "    \n",
    "    \"\"\"시퀀스 프로토콜 구현\"\"\"\n",
    "    def __len__(self):\n",
    "        return len(self._components)\n",
    "    \n",
    "    def __getitem__(self, index):\n",
    "        cls = type(self) # 객체의 클래스를 가져옴\n",
    "        if isinstance(index, slice): # index가 슬라이스이면\n",
    "            return cls(self._components[index]) # Vector 객체를 생성\n",
    "        elif isinstance(index, numbers.Integral): # index가 정수형이면\n",
    "            return self._components[index] # 해당 항목 반환\n",
    "        else:\n",
    "            msg = '{cls.__name__} indices must be integers'\n",
    "            raise TypeError(msg.format(cls=cls)) \n",
    "    \"\"\"시퀀스 프로토콜 구현 종료\"\"\"\n",
    "    \n",
    "    def __getattr__(self, name):\n",
    "        cls = type(self)\n",
    "        if len(name) == 1: # name이 한글자이면 \n",
    "            pos = cls.shortcut_names.find(name)\n",
    "            if 0 <= pos < len(self._components): # 포지션이 범위 내에 있으면 배열 항목 반환\n",
    "                return self._components[pos]\n",
    "        msg = '{.__name__!r} object has no attribute {!r}' \n",
    "        raise AttributeError(msg.format(cls, name))\n",
    "        \n",
    "    def __setattr__(self, name, value):\n",
    "        cls = type(self)\n",
    "        if len(name) == 1:\n",
    "            if name in cls.shortcut_names:\n",
    "                error = 'readonly attribute {attr_name!r}' # xyzt 중 하나는 구체적으로 오류 발생\n",
    "            elif name.islower():\n",
    "                error = \"can't set attributes 'a' to 'z' in {cls_name!r}\" # 그외 소문자면 일반적 메세지 오류 발생\n",
    "            else:\n",
    "                error = ''\n",
    "            if error:\n",
    "                msg = error.format(cls_name=cls.__name__, attr_name=name)\n",
    "                raise AttributeError(msg)\n",
    "        # 에러가 발생하지 않을 때는 정상적으로 __setattr__() 메서드 호출\n",
    "        super().__setattr__(name, value) \n",
    "        \n",
    "    def angle(self, n):\n",
    "        r = math.sqrt(sum(x * x for x in self[n:]))\n",
    "        a = math.atan2(r, self[n-1])\n",
    "        if (n == len(self) - 1) and (self[-1]<0):\n",
    "            return math.pi * 2 - a\n",
    "        else:\n",
    "            return a\n",
    "        \n",
    "    def angles(self):\n",
    "        return (self.angle(n) for n in range(1, len(self)))\n",
    "    \n",
    "    def __format__(self, fmt_spec=''):\n",
    "        if fmt_spec.endswith('h'): # 초구면좌표\n",
    "            fmt_spec = fmt_spec[:-1]\n",
    "            coords = itertools.chain([abs(self)],\n",
    "                                    self.angles()) \n",
    "            outer_fmt = '<{}>'\n",
    "        else:\n",
    "            coords = self\n",
    "            outer_fmt = '({})'\n",
    "        components = (format(c, fmt_spec) for c in coords)\n",
    "        return outer_fmt.format(', '.join(components))\n",
    "    \n",
    "    def __iter__(self):\n",
    "        return iter(self._components) # 반복할 수 있도록 구현\n",
    "    \n",
    "    def __repr__(self):\n",
    "        components = reprlib.repr(self._components) # 제한된 길이로 출력\n",
    "        components = components[components.find('['):-1] # 문자열 중 앞에 나오는 \"array('d',\" 를 제거\n",
    "        return 'Vector({})'.format(components)\n",
    "    \n",
    "    def __str__(self):\n",
    "        return str(tuple(self))\n",
    "    \n",
    "    def __bytes__(self):\n",
    "        return (bytes([ord(self.typecode)]) + \n",
    "               bytes(self._components))\n",
    "    \n",
    "    def __eq__(self, other):\n",
    "        if len(self) != len(other): # 길이가 다르면 False\n",
    "            return False\n",
    "        for a, b in zip(self, other): # 제너레이터로부터 하나씩 비교\n",
    "            if a != b:\n",
    "                return False\n",
    "        return True\n",
    "    \n",
    "    def __hash__(self):\n",
    "        hashes = (hash(x) for x in self._components) # 제너레이터 표현식 이용\n",
    "        return functools.reduce(operator.xor, hasehs, 0) # 초기값을 0으로 함\n",
    "    \n",
    "    def __abs__(self):\n",
    "        return math.sqrt(sum(x * x for x in self))\n",
    "    \n",
    "    def __bool__(self):\n",
    "        return bool(abs(self))\n",
    "    \n",
    "    @classmethod\n",
    "    def frombytes(cls, octets):\n",
    "        typecode = chr(octets[0])\n",
    "        memv = memoryview(octets[1:]).cast(typecode)\n",
    "        return cls(memv) # 언패킹할 필요가 없음\n",
    "    \n",
    "    # -x 구현\n",
    "    def __neg__(self):\n",
    "        return Vector(-x for x in self)\n",
    "    \n",
    "    # +x 구현\n",
    "    def __pos__(self):\n",
    "        return Vector(self)\n",
    "\n",
    "    def __add__(self, other):\n",
    "        try:\n",
    "            pairs = itertools.zip_longest(self, other, fillvalue=0.0)\n",
    "            return Vector(a + b for a, b in pairs)\n",
    "        except TypeError:\n",
    "            return NotImplemented\n",
    "\n",
    "    def __radd__(self, other):\n",
    "        return self + other\n",
    "    \n",
    "    def __mul__(self, scalar):\n",
    "        if isinstance(scalar, numbers.Real):\n",
    "            return Vector(n * scalar for n in self)\n",
    "        else:\n",
    "            return NotImplemented\n",
    "\n",
    "    def __rmul__(self, scalar):\n",
    "        return self * scalar"
   ]
  },
  {
   "cell_type": "code",
   "execution_count": 33,
   "metadata": {},
   "outputs": [
    {
     "data": {
      "text/plain": [
       "Vector([14.0, 28.0, 42.0])"
      ]
     },
     "execution_count": 33,
     "metadata": {},
     "output_type": "execute_result"
    }
   ],
   "source": [
    "v1 = Vector([1,2,3])\n",
    "14 * v1"
   ]
  },
  {
   "cell_type": "code",
   "execution_count": 34,
   "metadata": {},
   "outputs": [
    {
     "data": {
      "text/plain": [
       "Vector([1.0, 2.0, 3.0])"
      ]
     },
     "execution_count": 34,
     "metadata": {},
     "output_type": "execute_result"
    }
   ],
   "source": [
    "v1 * True"
   ]
  },
  {
   "cell_type": "code",
   "execution_count": 35,
   "metadata": {},
   "outputs": [
    {
     "data": {
      "text/plain": [
       "Vector([0.3333333333333333, 0.6666666666666666, 1.0])"
      ]
     },
     "execution_count": 35,
     "metadata": {},
     "output_type": "execute_result"
    }
   ],
   "source": [
    "from fractions import Fraction\n",
    "v1 * Fraction(1, 3)"
   ]
  },
  {
   "cell_type": "markdown",
   "metadata": {},
   "source": [
    "fractions.Fraction(a,b) 는 a/b 를 반환"
   ]
  },
  {
   "cell_type": "code",
   "execution_count": 37,
   "metadata": {},
   "outputs": [
    {
     "data": {
      "text/plain": [
       "0.2"
      ]
     },
     "execution_count": 37,
     "metadata": {},
     "output_type": "execute_result"
    }
   ],
   "source": [
    "float(Fraction(1,5))"
   ]
  },
  {
   "cell_type": "markdown",
   "metadata": {},
   "source": [
    "마지막으로 파이썬 3.5에 소개된 @ 연산자를 ARABOJA. 이 연산자는 행렬의 내적을 나타내며, `__matmul__()` 등의 특별 메서드에 의해 지원된다.\n",
    "\n",
    "```python\n",
    "def __matmul__(self, other):\n",
    "    try:\n",
    "        return sum(a * b for a, b in zip(self, other))\n",
    "    except TypeError:\n",
    "        return NotImplemented\n",
    "\n",
    "def __rmatmul__(self, other):\n",
    "    return self @ other\n",
    "```"
   ]
  },
  {
   "cell_type": "code",
   "execution_count": 39,
   "metadata": {
    "jupyter": {
     "source_hidden": true
    }
   },
   "outputs": [],
   "source": [
    "from array import array\n",
    "import reprlib\n",
    "import math\n",
    "import numbers\n",
    "import functools\n",
    "import operator\n",
    "import itertools # chain() 함수를 사용하기 위함\n",
    "\n",
    "class Vector:\n",
    "    typecode = 'd'\n",
    "    shortcut_names = 'xyzt'\n",
    "    \n",
    "    def __init__(self, components):\n",
    "        # 벡터 요소를 배열로 저장\n",
    "        self._components = array(self.typecode, components)\n",
    "    \n",
    "    \"\"\"시퀀스 프로토콜 구현\"\"\"\n",
    "    def __len__(self):\n",
    "        return len(self._components)\n",
    "    \n",
    "    def __getitem__(self, index):\n",
    "        cls = type(self) # 객체의 클래스를 가져옴\n",
    "        if isinstance(index, slice): # index가 슬라이스이면\n",
    "            return cls(self._components[index]) # Vector 객체를 생성\n",
    "        elif isinstance(index, numbers.Integral): # index가 정수형이면\n",
    "            return self._components[index] # 해당 항목 반환\n",
    "        else:\n",
    "            msg = '{cls.__name__} indices must be integers'\n",
    "            raise TypeError(msg.format(cls=cls)) \n",
    "    \"\"\"시퀀스 프로토콜 구현 종료\"\"\"\n",
    "    \n",
    "    def __getattr__(self, name):\n",
    "        cls = type(self)\n",
    "        if len(name) == 1: # name이 한글자이면 \n",
    "            pos = cls.shortcut_names.find(name)\n",
    "            if 0 <= pos < len(self._components): # 포지션이 범위 내에 있으면 배열 항목 반환\n",
    "                return self._components[pos]\n",
    "        msg = '{.__name__!r} object has no attribute {!r}' \n",
    "        raise AttributeError(msg.format(cls, name))\n",
    "        \n",
    "    def __setattr__(self, name, value):\n",
    "        cls = type(self)\n",
    "        if len(name) == 1:\n",
    "            if name in cls.shortcut_names:\n",
    "                error = 'readonly attribute {attr_name!r}' # xyzt 중 하나는 구체적으로 오류 발생\n",
    "            elif name.islower():\n",
    "                error = \"can't set attributes 'a' to 'z' in {cls_name!r}\" # 그외 소문자면 일반적 메세지 오류 발생\n",
    "            else:\n",
    "                error = ''\n",
    "            if error:\n",
    "                msg = error.format(cls_name=cls.__name__, attr_name=name)\n",
    "                raise AttributeError(msg)\n",
    "        # 에러가 발생하지 않을 때는 정상적으로 __setattr__() 메서드 호출\n",
    "        super().__setattr__(name, value) \n",
    "        \n",
    "    def angle(self, n):\n",
    "        r = math.sqrt(sum(x * x for x in self[n:]))\n",
    "        a = math.atan2(r, self[n-1])\n",
    "        if (n == len(self) - 1) and (self[-1]<0):\n",
    "            return math.pi * 2 - a\n",
    "        else:\n",
    "            return a\n",
    "        \n",
    "    def angles(self):\n",
    "        return (self.angle(n) for n in range(1, len(self)))\n",
    "    \n",
    "    def __format__(self, fmt_spec=''):\n",
    "        if fmt_spec.endswith('h'): # 초구면좌표\n",
    "            fmt_spec = fmt_spec[:-1]\n",
    "            coords = itertools.chain([abs(self)],\n",
    "                                    self.angles()) \n",
    "            outer_fmt = '<{}>'\n",
    "        else:\n",
    "            coords = self\n",
    "            outer_fmt = '({})'\n",
    "        components = (format(c, fmt_spec) for c in coords)\n",
    "        return outer_fmt.format(', '.join(components))\n",
    "    \n",
    "    def __iter__(self):\n",
    "        return iter(self._components) # 반복할 수 있도록 구현\n",
    "    \n",
    "    def __repr__(self):\n",
    "        components = reprlib.repr(self._components) # 제한된 길이로 출력\n",
    "        components = components[components.find('['):-1] # 문자열 중 앞에 나오는 \"array('d',\" 를 제거\n",
    "        return 'Vector({})'.format(components)\n",
    "    \n",
    "    def __str__(self):\n",
    "        return str(tuple(self))\n",
    "    \n",
    "    def __bytes__(self):\n",
    "        return (bytes([ord(self.typecode)]) + \n",
    "               bytes(self._components))\n",
    "    \n",
    "    def __eq__(self, other):\n",
    "        if len(self) != len(other): # 길이가 다르면 False\n",
    "            return False\n",
    "        for a, b in zip(self, other): # 제너레이터로부터 하나씩 비교\n",
    "            if a != b:\n",
    "                return False\n",
    "        return True\n",
    "    \n",
    "    def __hash__(self):\n",
    "        hashes = (hash(x) for x in self._components) # 제너레이터 표현식 이용\n",
    "        return functools.reduce(operator.xor, hasehs, 0) # 초기값을 0으로 함\n",
    "    \n",
    "    def __abs__(self):\n",
    "        return math.sqrt(sum(x * x for x in self))\n",
    "    \n",
    "    def __bool__(self):\n",
    "        return bool(abs(self))\n",
    "    \n",
    "    @classmethod\n",
    "    def frombytes(cls, octets):\n",
    "        typecode = chr(octets[0])\n",
    "        memv = memoryview(octets[1:]).cast(typecode)\n",
    "        return cls(memv) # 언패킹할 필요가 없음\n",
    "    \n",
    "    # -x 구현\n",
    "    def __neg__(self):\n",
    "        return Vector(-x for x in self)\n",
    "    \n",
    "    # +x 구현\n",
    "    def __pos__(self):\n",
    "        return Vector(self)\n",
    "\n",
    "    def __add__(self, other):\n",
    "        try:\n",
    "            pairs = itertools.zip_longest(self, other, fillvalue=0.0)\n",
    "            return Vector(a + b for a, b in pairs)\n",
    "        except TypeError:\n",
    "            return NotImplemented\n",
    "\n",
    "    def __radd__(self, other):\n",
    "        return self + other\n",
    "    \n",
    "    def __mul__(self, scalar):\n",
    "        if isinstance(scalar, numbers.Real):\n",
    "            return Vector(n * scalar for n in self)\n",
    "        else:\n",
    "            return NotImplemented\n",
    "\n",
    "    def __rmul__(self, scalar):\n",
    "        return self * scalar\n",
    "    \n",
    "    def __matmul__(self, other):\n",
    "        try:\n",
    "            return sum(a * b for a, b in zip(self, other))\n",
    "        except TypeError:\n",
    "            return NotImplemented\n",
    "\n",
    "    def __rmatmul__(self, other):\n",
    "        return self @ other"
   ]
  },
  {
   "cell_type": "code",
   "execution_count": 40,
   "metadata": {},
   "outputs": [
    {
     "data": {
      "text/plain": [
       "38.0"
      ]
     },
     "execution_count": 40,
     "metadata": {},
     "output_type": "execute_result"
    }
   ],
   "source": [
    "va = Vector([1,2,3])\n",
    "vz = Vector([5,6,7])\n",
    "va @ vz"
   ]
  },
  {
   "cell_type": "markdown",
   "metadata": {},
   "source": [
    "## 13.5 향상된 비교 연산자\n",
    "\n"
   ]
  },
  {
   "cell_type": "code",
   "execution_count": null,
   "metadata": {},
   "outputs": [],
   "source": []
  }
 ],
 "metadata": {
  "kernelspec": {
   "display_name": "Python 3",
   "language": "python",
   "name": "python3"
  },
  "language_info": {
   "codemirror_mode": {
    "name": "ipython",
    "version": 3
   },
   "file_extension": ".py",
   "mimetype": "text/x-python",
   "name": "python",
   "nbconvert_exporter": "python",
   "pygments_lexer": "ipython3",
   "version": "3.7.3"
  }
 },
 "nbformat": 4,
 "nbformat_minor": 4
}
