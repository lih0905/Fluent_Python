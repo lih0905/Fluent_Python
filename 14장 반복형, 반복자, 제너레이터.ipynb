{
 "cells": [
  {
   "cell_type": "markdown",
   "metadata": {},
   "source": [
    "# 14장. 반복형, 반복자, 제너레이터\n",
    "\n",
    "메모리에 다 들어가지 않는 데이터셋을 검색할 때는 한번에 하나씩 필요할 때 가져오도록 구현해야 하며, 이것이 반복자 패턴이 하는 일이다.\n",
    "\n",
    "파이썬의 컬렉션은 모두 반복형이며, 다음과 같은 연산을 지원하기 위해 내부적으로 반복자를 사용한다.\n",
    "\n",
    "* for 루프\n",
    "* 컬렉션형 생성과 확장\n",
    "* 텍스트 파일을 한 줄씩 반복\n",
    "* 지능형 리스트/딕셔너리/집합\n",
    "* 튜플 언패킹\n",
    "* 함수 호출 시 *를 이용해서 실제 매개변수를 언패킹\n",
    "\n",
    "이 장에서는 다음과 같은 내용을 다룬다.\n",
    "\n",
    "* 반복형 객체를 처리하기 위해 내부적으로 `iter()` 내장 함수를 사용하는 방법\n",
    "* 파이썬에서 고전적인 반복자 패턴을 구현하는 방법\n",
    "* 제너레이터가 작동하는 방식을 한 줄씩 상세히 설명\n",
    "* 고전적인 반복자를 제너레이터 함수나 제너레이터 표현식으로 바꾸는 방법\n",
    "* 표준 라이브러리에서의 범용 제너레이터 함수의 활용\n",
    "* 제너레이터를 결합하기 위해 새로 추가된 `yield from`을 사용하는 방법\n",
    "* 사례 연구: 대형 데이터셋을 사용하도록 설계된 데이터베이스 변환 유틸리티에서 제너레이터 함수 이용\n",
    "* 비슷해 보이는 제너레이터와 코루틴이 실제로는 아주 다르며, 혼합해서 사용하면 안 되는 이유"
   ]
  },
  {
   "cell_type": "markdown",
   "metadata": {},
   "source": [
    "## 14.1 Sentence 버전 #1: 단어 시퀀스\n",
    "\n",
    "먼저 Sentence라는 클래스를 구현하면서 반복형을 알아보자."
   ]
  },
  {
   "cell_type": "code",
   "execution_count": 1,
   "metadata": {},
   "outputs": [],
   "source": [
    "import re\n",
    "import reprlib\n",
    "\n",
    "RE_WORD = re.compile('\\w+') # \\w : 알파벳 및 숫자, + : 연속된 문자열\n",
    "\n",
    "class Sentence:\n",
    "    \n",
    "    def __init__(self, text):\n",
    "        self.text = text\n",
    "        self.words = RE_WORD.findall(text) # 중복되지 않은 매칭 문자열의 리스트 반환\n",
    "        \n",
    "    def __getitem__(self, index):\n",
    "        return self.words[index]\n",
    "    \n",
    "    def __len__(self):\n",
    "        return len(self.words)\n",
    "    \n",
    "    def __repr__(self):\n",
    "        return 'Sentence(%s)' % reprlib.repr(self.text) # 문자열을 축약해서 생성"
   ]
  },
  {
   "cell_type": "code",
   "execution_count": 5,
   "metadata": {},
   "outputs": [
    {
     "data": {
      "text/plain": [
       "Sentence('\"The time ha... Walrus said,')"
      ]
     },
     "execution_count": 5,
     "metadata": {},
     "output_type": "execute_result"
    }
   ],
   "source": [
    "s = Sentence('\"The time has come,\" the Walrus said,')\n",
    "s # reprlib.repr() 이 생성한 결과"
   ]
  },
  {
   "cell_type": "code",
   "execution_count": 6,
   "metadata": {},
   "outputs": [
    {
     "name": "stdout",
     "output_type": "stream",
     "text": [
      "The\n",
      "time\n",
      "has\n",
      "come\n",
      "the\n",
      "Walrus\n",
      "said\n"
     ]
    }
   ],
   "source": [
    "for word in s: # Sentence 객체는 반복 가능\n",
    "    print(word)"
   ]
  },
  {
   "cell_type": "code",
   "execution_count": 4,
   "metadata": {},
   "outputs": [
    {
     "data": {
      "text/plain": [
       "['The', 'time', 'has', 'come', 'the', 'Walrus', 'said']"
      ]
     },
     "execution_count": 4,
     "metadata": {},
     "output_type": "execute_result"
    }
   ],
   "source": [
    "list(s)"
   ]
  },
  {
   "cell_type": "code",
   "execution_count": 8,
   "metadata": {},
   "outputs": [
    {
     "data": {
      "text/plain": [
       "('The', 'Walrus', 'said')"
      ]
     },
     "execution_count": 8,
     "metadata": {},
     "output_type": "execute_result"
    }
   ],
   "source": [
    "s[0], s[5], s[-1] # 인덱스 이용 가능"
   ]
  },
  {
   "cell_type": "markdown",
   "metadata": {},
   "source": [
    "### 14.1.1 Sequence가 반복 가능한 이유: iter() 함수\n",
    "\n",
    "파이썬 인터프리터가 x 객체를 반복해야 할 때는 언제나 `iter(x)`를 자동으로 호출한다. `iter()` 내장 함수는 다음 과정을 수행한다.\n",
    "\n",
    "1. 객체가 `__iter__()` 메서드를 구현하는지 확인하고, 이 메서드를 호출하여 반복자를 가져옴\n",
    "1. `__iter__()` 메서드가 없고 `__getitem__()`이 있으면 파이썬은 인덱스 0에서부터 시작해서 항목을 순서대로 가져오는 반복자를 생성\n",
    "1. 이 과정이 모두 실패하면 파이썬은 `TypeError` 오류를 발생시킴\n",
    "\n",
    "따라서 모든 파이썬 시퀀스는 `__getitem__()`을 구현하고 있으므로 반복할 수 있다(덕 타이핑!). \n",
    "\n",
    "구스 타이핑을 이용하면 반복형에 대한 정의가 단순해질 수 있지만, 융퉁성이 떨어진다. 사실 객체를 반복하기 전에 반복형인지 검사하는 건 불필요한데, 이는 바로 `TypeError`를 발생시키기 때문이다. 따라서 `try/except` 블록으로 처리하는 것이 좋다."
   ]
  },
  {
   "cell_type": "markdown",
   "metadata": {},
   "source": [
    "## 14.2 반복형과 반복자\n",
    "\n",
    "* 반복형 : `iter()` 내장 함수가 반복자를 가져올 수 있는 모든 객체(ex:시퀀스)와 반복자를 반환하는 `__iter__()` 메서드를 구현하는 객체를 반복형이라고 한다.\n",
    "* 반복자 : 다음 항목을 반환하거나, 다음 항목이 없을 때 StopIteration 예외를 발생시키는, 인수를 받지 않는 `__next__()` 메서드를 구현하는 객체. 파이썬 반복자는 `__iter__()` 메서드도 구현하므로 반복형이기도 하다.\n",
    "\n",
    "파이썬은 반복형 객체에서 반복자를 가져온다. 다음 예제에서 'ABC'는 반복형이다. 반복자가 보이지 않지만 내부 어딘가에 존재한다."
   ]
  },
  {
   "cell_type": "code",
   "execution_count": 9,
   "metadata": {},
   "outputs": [
    {
     "name": "stdout",
     "output_type": "stream",
     "text": [
      "A\n",
      "B\n",
      "C\n"
     ]
    }
   ],
   "source": [
    "s = 'ABC'\n",
    "for char in s:\n",
    "    print(char)"
   ]
  },
  {
   "cell_type": "markdown",
   "metadata": {},
   "source": [
    "for 문 대신 while 문을 이용하면 다음과 같다."
   ]
  },
  {
   "cell_type": "code",
   "execution_count": 11,
   "metadata": {},
   "outputs": [
    {
     "name": "stdout",
     "output_type": "stream",
     "text": [
      "A\n",
      "B\n",
      "C\n"
     ]
    }
   ],
   "source": [
    "s = 'ABC'\n",
    "it = iter(s) # 반복형에서 반복자 it를 생성\n",
    "while True:\n",
    "    try:\n",
    "        print(next(it))\n",
    "    except StopIteration: # 더이상 항목이 없으면 반복자가 StopIteration 예외 발생시킴\n",
    "        del it # 반복자 객체 제거\n",
    "        break"
   ]
  },
  {
   "cell_type": "markdown",
   "metadata": {},
   "source": [
    "반복자에 대한 표준 인터페이스는 다음과 같은 메서드 두 개를 정의한다.\n",
    "\n",
    "* `__next__()` : 다음에 사용할 항목 반환. 항목이 없으면 StopIteration 발생\n",
    "* `__iter__()` : self를 반환.\n",
    "\n",
    "반복자는 `next()`를 호출하고 StopIteration 예외를 잡는 방법 외에는 항목이 소진되었는지 확인할 방법이 없다. 그리고 반복자는 재설정할 수 없으며, 반복형에 `iter()`를 호출해서 다시 반복자를 생성해야 한다."
   ]
  },
  {
   "cell_type": "code",
   "execution_count": 12,
   "metadata": {},
   "outputs": [
    {
     "data": {
      "text/plain": [
       "<iterator at 0x7f2abe69df60>"
      ]
     },
     "execution_count": 12,
     "metadata": {},
     "output_type": "execute_result"
    }
   ],
   "source": [
    "s3 = Sentence('Pig and Pepper')\n",
    "it = iter(s3)\n",
    "it"
   ]
  },
  {
   "cell_type": "code",
   "execution_count": 13,
   "metadata": {},
   "outputs": [
    {
     "data": {
      "text/plain": [
       "'Pig'"
      ]
     },
     "execution_count": 13,
     "metadata": {},
     "output_type": "execute_result"
    }
   ],
   "source": [
    "next(it)"
   ]
  },
  {
   "cell_type": "code",
   "execution_count": 14,
   "metadata": {},
   "outputs": [
    {
     "data": {
      "text/plain": [
       "'and'"
      ]
     },
     "execution_count": 14,
     "metadata": {},
     "output_type": "execute_result"
    }
   ],
   "source": [
    "next(it)"
   ]
  },
  {
   "cell_type": "code",
   "execution_count": 15,
   "metadata": {},
   "outputs": [
    {
     "data": {
      "text/plain": [
       "'Pepper'"
      ]
     },
     "execution_count": 15,
     "metadata": {},
     "output_type": "execute_result"
    }
   ],
   "source": [
    "next(it)"
   ]
  },
  {
   "cell_type": "code",
   "execution_count": 16,
   "metadata": {},
   "outputs": [
    {
     "ename": "StopIteration",
     "evalue": "",
     "output_type": "error",
     "traceback": [
      "\u001b[0;31m---------------------------------------------------------------------------\u001b[0m",
      "\u001b[0;31mStopIteration\u001b[0m                             Traceback (most recent call last)",
      "\u001b[0;32m<ipython-input-16-bc1ab118995a>\u001b[0m in \u001b[0;36m<module>\u001b[0;34m\u001b[0m\n\u001b[0;32m----> 1\u001b[0;31m \u001b[0mnext\u001b[0m\u001b[0;34m(\u001b[0m\u001b[0mit\u001b[0m\u001b[0;34m)\u001b[0m\u001b[0;34m\u001b[0m\u001b[0;34m\u001b[0m\u001b[0m\n\u001b[0m",
      "\u001b[0;31mStopIteration\u001b[0m: "
     ]
    }
   ],
   "source": [
    "next(it)"
   ]
  },
  {
   "cell_type": "code",
   "execution_count": 17,
   "metadata": {},
   "outputs": [
    {
     "data": {
      "text/plain": [
       "[]"
      ]
     },
     "execution_count": 17,
     "metadata": {},
     "output_type": "execute_result"
    }
   ],
   "source": [
    "list(it)"
   ]
  },
  {
   "cell_type": "code",
   "execution_count": 18,
   "metadata": {},
   "outputs": [
    {
     "data": {
      "text/plain": [
       "['Pig', 'and', 'Pepper']"
      ]
     },
     "execution_count": 18,
     "metadata": {},
     "output_type": "execute_result"
    }
   ],
   "source": [
    "list(iter(s3))"
   ]
  },
  {
   "cell_type": "markdown",
   "metadata": {},
   "source": [
    "## 14.3 Sentence 버전 #2: 고전적인 반복자\n",
    "\n",
    "이번에는 고전적인 반복자 패턴에 맞춰 Sentence 클래스를 구현한다. `__iter__()` 특별 메서드를 구현하고 이 메서드가 SentenceIterator를 반환하도록 만든다."
   ]
  },
  {
   "cell_type": "code",
   "execution_count": 19,
   "metadata": {},
   "outputs": [],
   "source": [
    "import re\n",
    "import reprlib\n",
    "\n",
    "RE_WORD = re.compile('\\w+') # \\w : 알파벳 및 숫자, + : 연속된 문자열\n",
    "\n",
    "class Sentence:\n",
    "    \n",
    "    def __init__(self, text):\n",
    "        self.text = text\n",
    "        self.words = RE_WORD.findall(text) # 중복되지 않은 매칭 문자열의 리스트 반환\n",
    "            \n",
    "    def __repr__(self):\n",
    "        return 'Sentence(%s)' % reprlib.repr(self.text) # 문자열을 축약해서 생성\n",
    "    \n",
    "    def __iter__(self): # __getitem__() 은 구현하지 않아도 __iter__()가 있으므로 반복형\n",
    "        return SentenceIterator(self.words)\n",
    "    \n",
    "class SentenceIterator:\n",
    "    \n",
    "    def __init__(self, words):\n",
    "        self.words = words\n",
    "        self.index = 0\n",
    "        \n",
    "    def __next__(self):\n",
    "        try:\n",
    "            word = self.words[self.index]\n",
    "        except IndexError: # 단어가 없으면 예외 발생\n",
    "            raise StopIteration()\n",
    "        self.index += 1\n",
    "        return word\n",
    "    \n",
    "    def __iter__(self):\n",
    "        return self\n",
    "            "
   ]
  },
  {
   "cell_type": "markdown",
   "metadata": {},
   "source": [
    "사실 SentenceIterator에서 `__iter__()`를 구현할 필요는 없다. 그렇지만 반복자는 `__next__()`와 `__iter__()` 메서드를 모두 구현해야 `issubclass(SentenceIterator, abc.Iterator)` 테스트를 통과할 수 있다."
   ]
  },
  {
   "cell_type": "markdown",
   "metadata": {},
   "source": [
    "### 14.3.1 Sentence를 반복자로 만들기: 좋지 않은 생각\n",
    "\n",
    "반복형과 반복자를 만들 때 흔히 하는 오류는 둘을 혼동하기 때문에 발생한다. 반복형은 호출될 때마다 반복자를 새로 생성하는 `__iter__()` 메서드를 가지고 있으며, 반복자는 개별 항목을 반환하는 `__next__()` 메서드와 `__iter__()` 메서드를 가지고 있다. 따라서 반복자는 반복형이지만 반복형은 반복자가 아니다.\n",
    "\n",
    "반복자 패턴은 다음과 같은 용도에 사용해야 한다.\n",
    "\n",
    "* 집합 객체의 내부 표현을 노출시키지 않고 내용에 접근하는 경우\n",
    "* 집합 객체의 다중 반복을 지원하는 경우\n",
    "* 다양한 집합 구조체를 반복하기 위한 통일된 인터페이스를 제공하는 경우\n"
   ]
  },
  {
   "cell_type": "markdown",
   "metadata": {},
   "source": [
    "## 14.4 Sentence 버전 #3: 제너레이터 함수\n",
    "\n",
    "동일한 기능을 파이썬스럽게 구현하려면 SentenceIterator 클래스 대신 제너레이터 함수를 사용한다."
   ]
  },
  {
   "cell_type": "code",
   "execution_count": 20,
   "metadata": {},
   "outputs": [],
   "source": [
    "import re\n",
    "import reprlib\n",
    "\n",
    "RE_WORD = re.compile('\\w+') # \\w : 알파벳 및 숫자, + : 연속된 문자열\n",
    "\n",
    "class Sentence:\n",
    "    \n",
    "    def __init__(self, text):\n",
    "        self.text = text\n",
    "        self.words = RE_WORD.findall(text) # 중복되지 않은 매칭 문자열의 리스트 반환\n",
    "            \n",
    "    def __repr__(self):\n",
    "        return 'Sentence(%s)' % reprlib.repr(self.text) # 문자열을 축약해서 생성\n",
    "    \n",
    "    def __iter__(self): \n",
    "        for word in self.words:\n",
    "            yield word # 현재 단어를 생성\n",
    "        return\n",
    "    # 별도의 반복자 클래스가 필요 없다"
   ]
  },
  {
   "cell_type": "markdown",
   "metadata": {},
   "source": [
    "### 14.4.1 제너레이터 함수의 작동 방식"
   ]
  },
  {
   "cell_type": "code",
   "execution_count": null,
   "metadata": {},
   "outputs": [],
   "source": []
  }
 ],
 "metadata": {
  "kernelspec": {
   "display_name": "Python 3",
   "language": "python",
   "name": "python3"
  },
  "language_info": {
   "codemirror_mode": {
    "name": "ipython",
    "version": 3
   },
   "file_extension": ".py",
   "mimetype": "text/x-python",
   "name": "python",
   "nbconvert_exporter": "python",
   "pygments_lexer": "ipython3",
   "version": "3.7.3"
  }
 },
 "nbformat": 4,
 "nbformat_minor": 4
}
